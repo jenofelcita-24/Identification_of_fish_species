{
  "cells": [
    {
      "cell_type": "code",
      "execution_count": null,
      "metadata": {
        "id": "glNNju32RD60"
      },
      "outputs": [],
      "source": [
        "import os\n",
        "import tensorflow as tf\n",
        "from tensorflow.keras.applications.mobilenet_v2 import MobileNetV2,preprocess_input\n",
        "from tensorflow.keras.layers import Dense,Conv2D,GlobalAvgPool2D,Input\n",
        "from tensorflow.keras.preprocessing.image import load_img,ImageDataGenerator\n",
        "from tensorflow.keras import callbacks,optimizers\n",
        "import numpy as np\n",
        "from google.colab import drive"
      ]
    },
    {
      "cell_type": "code",
      "execution_count": null,
      "metadata": {
        "colab": {
          "base_uri": "https://localhost:8080/"
        },
        "id": "AGlFsZ7JRFl9",
        "outputId": "09ba8332-b286-4e74-8a70-d1f32374527f"
      },
      "outputs": [
        {
          "output_type": "stream",
          "name": "stdout",
          "text": [
            "Mounted at /content/drive\n"
          ]
        }
      ],
      "source": [
        "drive.mount('/content/drive')"
      ]
    },
    {
      "cell_type": "code",
      "execution_count": null,
      "metadata": {
        "colab": {
          "base_uri": "https://localhost:8080/"
        },
        "id": "6oTvhPqiRFuo",
        "outputId": "7f24ff24-8ab4-42be-a826-dc82a0f531c9"
      },
      "outputs": [
        {
          "output_type": "stream",
          "name": "stdout",
          "text": [
            "/content/drive/MyDrive/fish\n"
          ]
        }
      ],
      "source": [
        "%cd drive/MyDrive/fish/"
      ]
    },
    {
      "cell_type": "code",
      "execution_count": null,
      "metadata": {
        "id": "8oUCJaUQRFxu"
      },
      "outputs": [],
      "source": [
        "!unzip NA_Fish_Dataset.zip"
      ]
    },
    {
      "cell_type": "code",
      "execution_count": null,
      "metadata": {
        "id": "AGOCPK-rRF0v",
        "colab": {
          "base_uri": "https://localhost:8080/"
        },
        "outputId": "77cfd7fc-f37b-4110-fc9d-e5134fd4b363"
      },
      "outputs": [
        {
          "output_type": "execute_result",
          "data": {
            "text/plain": [
              "['Black Sea Sprat',\n",
              " 'Gilt Head Bream',\n",
              " 'Horse Mackerel',\n",
              " 'Red Mullet',\n",
              " 'Red Sea Bream',\n",
              " 'Sea Bass',\n",
              " 'Shrimp',\n",
              " 'Striped Red Mullet',\n",
              " 'Trout',\n",
              " 'anglerfish',\n",
              " 'european sea sturgeon',\n",
              " 'Red hand fish',\n",
              " 'sakhalin sturgeon',\n",
              " 'smalltooth fish',\n",
              " 'tequils splitfin']"
            ]
          },
          "metadata": {},
          "execution_count": 8
        }
      ],
      "source": [
        "os.listdir(\"NA_Fish_Dataset\")"
      ]
    },
    {
      "cell_type": "code",
      "execution_count": null,
      "metadata": {
        "colab": {
          "base_uri": "https://localhost:8080/"
        },
        "id": "h8FfgREhRF3m",
        "outputId": "12991791-bd74-4344-ceb3-440fe9fe73d9"
      },
      "outputs": [
        {
          "output_type": "stream",
          "name": "stdout",
          "text": [
            " anglerfish\t\t 'Red hand fish'       Shrimp\n",
            "'Black Sea Sprat'\t 'Red Mullet'\t      'smalltooth fish'\n",
            "'european sea sturgeon'  'Red Sea Bream'      'Striped Red Mullet'\n",
            "'Gilt Head Bream'\t 'sakhalin sturgeon'  'tequils splitfin'\n",
            "'Horse Mackerel'\t 'Sea Bass'\t       Trout\n"
          ]
        }
      ],
      "source": [
        "!ls NA_Fish_Dataset/"
      ]
    },
    {
      "cell_type": "code",
      "execution_count": null,
      "metadata": {
        "id": "v-KKTYXJRF58",
        "colab": {
          "base_uri": "https://localhost:8080/"
        },
        "outputId": "4f8ea6b7-3d46-441e-d681-c14225f0f123"
      },
      "outputs": [
        {
          "output_type": "stream",
          "name": "stdout",
          "text": [
            "Black Sea Sprat 50\n",
            "Gilt Head Bream 50\n",
            "Horse Mackerel 50\n",
            "Red Mullet 50\n",
            "Red Sea Bream 50\n",
            "Sea Bass 50\n",
            "Shrimp 50\n",
            "Striped Red Mullet 50\n",
            "Trout 30\n",
            "anglerfish 58\n",
            "european sea sturgeon 50\n",
            "Red hand fish 50\n",
            "sakhalin sturgeon 54\n",
            "smalltooth fish 51\n",
            "tequils splitfin 56\n"
          ]
        }
      ],
      "source": [
        "for i in os.listdir(\"NA_Fish_Dataset\"):\n",
        "  print(i,len(os.listdir(\"NA_Fish_Dataset/\"+i)))"
      ]
    },
    {
      "cell_type": "code",
      "execution_count": null,
      "metadata": {
        "id": "EPqYzR1FRF8V"
      },
      "outputs": [],
      "source": [
        "try:\n",
        "  os.mkdir(\"train\")\n",
        "  os.mkdir(\"test\")\n",
        "except:\n",
        "  pass\n",
        "for i in os.listdir(\"NA_Fish_Dataset\"):\n",
        "  try:\n",
        "    os.mkdir(\"train/\"+i)\n",
        "    os.mkdir(\"test/\"+i)\n",
        "  except:\n",
        "    pass\n",
        "  for j in os.listdir(\"NA_Fish_Dataset/\"+i)[:35]:\n",
        "    os.rename(\"NA_Fish_Dataset/\"+i+\"/\"+j,\"train/\"+i+\"/\"+j)\n",
        "  for j in os.listdir(\"NA_Fish_Dataset/\"+i)[:15]:\n",
        "    os.rename(\"NA_Fish_Dataset/\"+i+\"/\"+j,\"test/\"+i+\"/\"+j)"
      ]
    },
    {
      "cell_type": "code",
      "execution_count": null,
      "metadata": {
        "id": "022dG0GfRF-4"
      },
      "outputs": [],
      "source": [
        "def img_Data(dir_path,target_size,batch,class_lst,preprocessing,):\n",
        "  if preprocessing:\n",
        "    gen_object =ImageDataGenerator(preprocessing_function=preprocessing)\n",
        "  else:\n",
        "    gen_object =ImageDataGenerator()\n",
        "\n",
        "  return(gen_object.flow_from_directory(dir_path,\n",
        "                                          target_size= target_size,\n",
        "                                          batch_size=batch,\n",
        "                                          class_mode='sparse',\n",
        "                                          classes=class_lst,\n",
        "                                          shuffle=True))"
      ]
    },
    {
      "cell_type": "code",
      "execution_count": null,
      "metadata": {
        "id": "Sg0bswjURGBW",
        "colab": {
          "base_uri": "https://localhost:8080/"
        },
        "outputId": "87dcda77-3e0a-434b-8c60-3ffccf3a5709"
      },
      "outputs": [
        {
          "output_type": "stream",
          "name": "stdout",
          "text": [
            "Found 500 images belonging to 15 classes.\n",
            "Found 197 images belonging to 15 classes.\n"
          ]
        }
      ],
      "source": [
        "train_data_gen =img_Data(\"train\",(224,224),500,os.listdir(\"train\"),preprocess_input)\n",
        "valid_data_gen =img_Data(\"test\",(224,224),500,os.listdir(\"test\"),preprocess_input)"
      ]
    },
    {
      "cell_type": "code",
      "execution_count": null,
      "metadata": {
        "id": "ZZL8uvYHRGEM",
        "colab": {
          "base_uri": "https://localhost:8080/"
        },
        "outputId": "0913df65-8462-4c52-e056-5be788c5bb37"
      },
      "outputs": [
        {
          "output_type": "stream",
          "name": "stdout",
          "text": [
            "Downloading data from https://storage.googleapis.com/tensorflow/keras-applications/mobilenet_v2/mobilenet_v2_weights_tf_dim_ordering_tf_kernels_1.0_224_no_top.h5\n",
            "9412608/9406464 [==============================] - 0s 0us/step\n",
            "9420800/9406464 [==============================] - 0s 0us/step\n"
          ]
        }
      ],
      "source": [
        "base_model=tf.keras.applications.mobilenet_v2.MobileNetV2(\n",
        "              input_shape=(224,224,3),\n",
        "              alpha=1.0,\n",
        "              include_top=False,\n",
        "              weights='imagenet',\n",
        "              input_tensor=None,\n",
        "              pooling=None,\n",
        "              classes=1000,\n",
        "              classifier_activation='softmax')"
      ]
    },
    {
      "cell_type": "code",
      "execution_count": null,
      "metadata": {
        "id": "rCD38V2UXSNi"
      },
      "outputs": [],
      "source": [
        "base_model.trainable=False"
      ]
    },
    {
      "cell_type": "code",
      "execution_count": null,
      "metadata": {
        "id": "MK2kATxcXSJ9"
      },
      "outputs": [],
      "source": [
        "model=tf.keras.models.Sequential()\n",
        "model.add(base_model)\n",
        "model.add(GlobalAvgPool2D())\n",
        "model.add(Dense(1024,activation='relu'))\n",
        "model.add(Dense(1024,activation='softmax'))\n",
        "\n",
        "model.compile(optimizer='adam',loss='sparse_categorical_crossentropy',\n",
        "              metrics=['accuracy'])"
      ]
    },
    {
      "cell_type": "code",
      "execution_count": null,
      "metadata": {
        "id": "mlqprmAnXSH0"
      },
      "outputs": [],
      "source": [
        "elst=callbacks.EarlyStopping(monitor='val_loss',patience=5,mode='min')\n",
        "save_ck=callbacks.ModelCheckpoint('.mdl_wt.hdf5',save_best_only=True,monitor='val_loss',mode='min')"
      ]
    },
    {
      "cell_type": "code",
      "execution_count": null,
      "metadata": {
        "id": "MVL6WAYjXSFM",
        "colab": {
          "base_uri": "https://localhost:8080/"
        },
        "outputId": "eb41ed74-5389-4daf-ec00-38ee1c197a89"
      },
      "outputs": [
        {
          "output_type": "stream",
          "name": "stdout",
          "text": [
            "Epoch 1/10\n",
            "1/1 [==============================] - 68s 68s/step - loss: 6.8480 - accuracy: 0.0000e+00 - val_loss: 4.1723 - val_accuracy: 0.4924\n",
            "Epoch 2/10\n",
            "1/1 [==============================] - 54s 54s/step - loss: 4.0447 - accuracy: 0.4820 - val_loss: 2.1160 - val_accuracy: 0.5990\n",
            "Epoch 3/10\n",
            "1/1 [==============================] - 54s 54s/step - loss: 1.9404 - accuracy: 0.5940 - val_loss: 1.1644 - val_accuracy: 0.7970\n",
            "Epoch 4/10\n",
            "1/1 [==============================] - 54s 54s/step - loss: 0.9644 - accuracy: 0.8600 - val_loss: 0.7504 - val_accuracy: 0.8731\n",
            "Epoch 5/10\n",
            "1/1 [==============================] - 44s 44s/step - loss: 0.5455 - accuracy: 0.9420 - val_loss: 0.6333 - val_accuracy: 0.8274\n",
            "Epoch 6/10\n",
            "1/1 [==============================] - 43s 43s/step - loss: 0.3975 - accuracy: 0.9200 - val_loss: 0.4992 - val_accuracy: 0.8426\n",
            "Epoch 7/10\n",
            "1/1 [==============================] - 43s 43s/step - loss: 0.2594 - accuracy: 0.9580 - val_loss: 0.3979 - val_accuracy: 0.8731\n",
            "Epoch 8/10\n",
            "1/1 [==============================] - 53s 53s/step - loss: 0.1822 - accuracy: 0.9720 - val_loss: 0.3503 - val_accuracy: 0.8782\n",
            "Epoch 9/10\n",
            "1/1 [==============================] - 53s 53s/step - loss: 0.1435 - accuracy: 0.9760 - val_loss: 0.3267 - val_accuracy: 0.8629\n",
            "Epoch 10/10\n",
            "1/1 [==============================] - 43s 43s/step - loss: 0.1158 - accuracy: 0.9800 - val_loss: 0.3084 - val_accuracy: 0.8680\n"
          ]
        },
        {
          "output_type": "execute_result",
          "data": {
            "text/plain": [
              "<keras.callbacks.History at 0x7fee6035af50>"
            ]
          },
          "metadata": {},
          "execution_count": 18
        }
      ],
      "source": [
        "model.fit(train_data_gen,batch_size=500,validation_data=valid_data_gen,callbacks=[elst,save_ck],epochs=10)"
      ]
    }
  ],
  "metadata": {
    "colab": {
      "name": "fish_project_new.ipynb",
      "provenance": [],
      "collapsed_sections": []
    },
    "kernelspec": {
      "display_name": "Python 3",
      "name": "python3"
    },
    "language_info": {
      "name": "python"
    }
  },
  "nbformat": 4,
  "nbformat_minor": 0
}